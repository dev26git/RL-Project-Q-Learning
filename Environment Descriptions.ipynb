{
 "cells": [
  {
   "cell_type": "markdown",
   "id": "6856fc77",
   "metadata": {},
   "source": [
    "Environment Descriptions:\n",
    "\n",
    "1. Env_1: Q-Learning\n",
    "    - is_slippery = False\n",
    "    - learning_rate_a = 0.9\n",
    "    - discount_factor_g = 0.9\n",
    "    - epsilon_decay_rate = 0.0001\n",
    "    - Episodes = 15000\n",
    "<br><br>\n",
    "2. Env_2: Q-Learning\n",
    "    - is_slippery = False\n",
    "    - learning_rate_a = 0.9\n",
    "    - discount_factor_g = 0.9\n",
    "    - epsilon_decay_rate = 0.00001\n",
    "    - Episodes = 150000\n",
    "<br><br>\n",
    "3. Env_3: Q-Learning\n",
    "    - is_slippery = True\n",
    "    - learning_rate_a = 0.9\n",
    "    - discount_factor_g = 0.9\n",
    "    - epsilon_decay_rate = 0.0001\n",
    "    - Episodes = 15000\n",
    "<br><br>\n",
    "4. Env_4: Q-Learning\n",
    "    - is_slippery = False\n",
    "    - learning_rate_a = 0.9\n",
    "    - discount_factor_g = 0.9\n",
    "    - epsilon_decay_rate = 0.0001\n",
    "    - Episodes = 15000\n",
    "    - goal_reward = 15, hole_penalty = -2, step_penalty = -0.5\n",
    "<br><br>\n",
    "5. Env_5: Q-Learning<br>\n",
    "    A)\n",
    "    - is_slippery = False\n",
    "    - learning_rate_a = 0.9\n",
    "    - discount_factor_g = 0.9\n",
    "    - epsilon_decay_rate = 0.0001\n",
    "    - Episodes = 15000\n",
    "    - goal_reward = 23, hole_penalty = -2, step_penalty = -1<br>\n",
    "    \n",
    "    B)\n",
    "    - is_slippery = False\n",
    "    - learning_rate_a = 0.9\n",
    "    - discount_factor_g = 0.1\n",
    "    - epsilon_decay_rate = 0.0001\n",
    "    - Episodes = 15000\n",
    "    - goal_reward = 23, hole_penalty = -2, step_penalty = -1\n",
    "<br><br>\n",
    "6. Env_6: Q-Learning\n",
    "    - Enhanced Frozen Lake env\n",
    "<br><br>\n",
    "7. Env_7: Double Q-Learning<br>\n",
    "    - is_slippery = False\n",
    "    - learning_rate_a = 0.9\n",
    "    - discount_factor_g = 0.1\n",
    "    - epsilon_decay_rate = 0.0001\n",
    "    - Episodes = 15000\n",
    "    - goal_reward = 23, hole_penalty = -2, step_penalty = -1"
   ]
  },
  {
   "cell_type": "code",
   "execution_count": null,
   "id": "4be2d998",
   "metadata": {},
   "outputs": [],
   "source": []
  }
 ],
 "metadata": {
  "kernelspec": {
   "display_name": "Python 3 (ipykernel)",
   "language": "python",
   "name": "python3"
  },
  "language_info": {
   "codemirror_mode": {
    "name": "ipython",
    "version": 3
   },
   "file_extension": ".py",
   "mimetype": "text/x-python",
   "name": "python",
   "nbconvert_exporter": "python",
   "pygments_lexer": "ipython3",
   "version": "3.11.5"
  }
 },
 "nbformat": 4,
 "nbformat_minor": 5
}
